{
 "cells": [
  {
   "cell_type": "markdown",
   "metadata": {},
   "source": [
    "## Contents:\n",
    "<fill details>\n",
    "\n",
    "Instructions to run this notebook:\n",
    "- make sure the input excel file is in the `/data` directory\n",
    "- provide the name of the input file (user input)\n",
    "- provide the name of the output filev(user input)\n",
    "- make sure the output file is in the `/output` directory"
   ]
  }
 ],
 "metadata": {
  "language_info": {
   "name": "python"
  }
 },
 "nbformat": 4,
 "nbformat_minor": 2
}
