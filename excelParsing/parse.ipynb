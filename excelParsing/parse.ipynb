{
  "nbformat": 4,
  "nbformat_minor": 0,
  "metadata": {
    "colab": {
      "provenance": []
    },
    "kernelspec": {
      "name": "python3",
      "display_name": "Python 3"
    },
    "language_info": {
      "name": "python"
    }
  },
  "cells": [
    {
      "cell_type": "markdown",
      "source": [
        "# Contents:\n",
        "<fill details>\n",
        "\n",
        "Instructions to run this notebook:\n",
        "- make sure the input excel file is in the `/data` directory\n",
        "- provide the name of the input file (user input)\n",
        "- provide the name of the output filev(user input)\n",
        "- make sure the output file is in the `/output` directory"
      ],
      "metadata": {
        "id": "oKWKOx-e4Akn"
      }
    },
    {
      "cell_type": "markdown",
      "source": [
        "## Install & import necessary libraries"
      ],
      "metadata": {
        "id": "N61kQdAPdSNf"
      }
    },
    {
      "cell_type": "code",
      "source": [
        "%pip install openpyxl python-docx --quiet"
      ],
      "metadata": {
        "colab": {
          "base_uri": "https://localhost:8080/"
        },
        "id": "XycWxgANc3QN",
        "outputId": "21bb89d1-9d03-46a0-f48a-8f9178067664"
      },
      "execution_count": 1,
      "outputs": [
        {
          "output_type": "stream",
          "name": "stdout",
          "text": [
            "\u001b[?25l   \u001b[90m━━━━━━━━━━━━━━━━━━━━━━━━━━━━━━━━━━━━━━━━\u001b[0m \u001b[32m0.0/244.3 kB\u001b[0m \u001b[31m?\u001b[0m eta \u001b[36m-:--:--\u001b[0m\r\u001b[2K   \u001b[90m━━━━━━━━━━━━━━━━━━━━━━━━━━━━━━━━━━━━━━━━\u001b[0m \u001b[32m244.3/244.3 kB\u001b[0m \u001b[31m13.6 MB/s\u001b[0m eta \u001b[36m0:00:00\u001b[0m\n",
            "\u001b[?25h"
          ]
        }
      ]
    },
    {
      "cell_type": "code",
      "source": [
        "import get_month_report\n",
        "from write_output import word_output"
      ],
      "metadata": {
        "id": "XR46OQRadKts"
      },
      "execution_count": null,
      "outputs": []
    },
    {
      "cell_type": "markdown",
      "source": [
        "## Read input file\n",
        "\n",
        "For each month - June, July & August - there is an input excel file in the `/data` directory.\n",
        "\n",
        "The input file is entered by the user, in order to generate the word document output corresponding to each monthly file."
      ],
      "metadata": {
        "id": "PgYjNjdUdjiY"
      }
    },
    {
      "cell_type": "code",
      "source": [
        "fname = input(\"Enter the name of the input file:\")"
      ],
      "metadata": {
        "id": "Qrns727feCgj"
      },
      "execution_count": 8,
      "outputs": []
    },
    {
      "cell_type": "code",
      "source": [
        "# get the name of the monthly report\n",
        "file_name = f\"data/{fname}.xlsx\""
      ],
      "metadata": {
        "id": "Ri-DkdYiecui"
      },
      "execution_count": 4,
      "outputs": []
    },
    {
      "cell_type": "code",
      "source": [
        "# print(file_name)"
      ],
      "metadata": {
        "id": "C0Vt3tt5e53O"
      },
      "execution_count": 7,
      "outputs": []
    },
    {
      "cell_type": "code",
      "source": [
        "df = get_month_report.get_processed_df(file_name=file_name)"
      ],
      "metadata": {
        "id": "LhJPi1tWe79d"
      },
      "execution_count": null,
      "outputs": []
    },
    {
      "cell_type": "code",
      "source": [
        "# df.head()"
      ],
      "metadata": {
        "id": "BIhFsvGwfGUi"
      },
      "execution_count": null,
      "outputs": []
    },
    {
      "cell_type": "markdown",
      "source": [
        "## Write output file\n",
        "For each input monthly file, write the output word document in the `/output` directory."
      ],
      "metadata": {
        "id": "W2w48agRfKgf"
      }
    },
    {
      "cell_type": "code",
      "source": [
        "# provide the name of the output file\n",
        "output_file = f\"output/{fname}.docx\""
      ],
      "metadata": {
        "id": "nKFIgDRJfKAd"
      },
      "execution_count": 6,
      "outputs": []
    },
    {
      "cell_type": "code",
      "source": [
        "document = word_output(df)"
      ],
      "metadata": {
        "id": "_BCF1R37ftNw"
      },
      "execution_count": null,
      "outputs": []
    },
    {
      "cell_type": "code",
      "source": [
        "# save the document\n",
        "document.save(output_file)"
      ],
      "metadata": {
        "id": "M-_X5kJ4f0-M"
      },
      "execution_count": null,
      "outputs": []
    }
  ]
}