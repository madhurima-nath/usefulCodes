{
  "cells": [
    {
      "cell_type": "markdown",
      "metadata": {
        "id": "oKWKOx-e4Akn"
      },
      "source": [
        "# Contents:\n",
        "<fill details>\n",
        "\n",
        "Instructions to run this notebook:\n",
        "- make sure the input excel file is in the `/data` directory\n",
        "- provide the name of the input file (user input)\n",
        "- provide the name of the output filev(user input)\n",
        "- make sure the output file is in the `/output` directory"
      ]
    },
    {
      "cell_type": "markdown",
      "metadata": {
        "id": "N61kQdAPdSNf"
      },
      "source": [
        "## Install & import necessary libraries"
      ]
    },
    {
      "cell_type": "code",
      "execution_count": 1,
      "metadata": {
        "colab": {
          "base_uri": "https://localhost:8080/"
        },
        "id": "XycWxgANc3QN",
        "outputId": "21bb89d1-9d03-46a0-f48a-8f9178067664"
      },
      "outputs": [
        {
          "name": "stdout",
          "output_type": "stream",
          "text": [
            "\u001b[?25l   \u001b[90m━━━━━━━━━━━━━━━━━━━━━━━━━━━━━━━━━━━━━━━━\u001b[0m \u001b[32m0.0/244.3 kB\u001b[0m \u001b[31m?\u001b[0m eta \u001b[36m-:--:--\u001b[0m\r\u001b[2K   \u001b[90m━━━━━━━━━━━━━━━━━━━━━━━━━━━━━━━━━━━━━━━━\u001b[0m \u001b[32m244.3/244.3 kB\u001b[0m \u001b[31m13.6 MB/s\u001b[0m eta \u001b[36m0:00:00\u001b[0m\n",
            "\u001b[?25h"
          ]
        }
      ],
      "source": [
        "%pip install openpyxl python-docx requests beautifulsoup4 PyPDF2 --quiet\n",
        "## install if parsing pdf, webpage"
      ]
    },
    {
      "cell_type": "code",
      "execution_count": null,
      "metadata": {
        "id": "XR46OQRadKts"
      },
      "outputs": [],
      "source": [
        "import get_month_report\n",
        "from write_output import word_output"
      ]
    },
    {
      "cell_type": "markdown",
      "metadata": {
        "id": "PgYjNjdUdjiY"
      },
      "source": [
        "## Read input file\n",
        "\n",
        "For each month - June & July - there is an input excel file in the `/data` directory.\n",
        "\n",
        "The input file is entered by the user, in order to generate the word document output corresponding to each monthly file."
      ]
    },
    {
      "cell_type": "code",
      "execution_count": 8,
      "metadata": {
        "id": "Qrns727feCgj"
      },
      "outputs": [],
      "source": [
        "fname = input(\"Enter the name of the input file:\")"
      ]
    },
    {
      "cell_type": "code",
      "execution_count": 4,
      "metadata": {
        "id": "Ri-DkdYiecui"
      },
      "outputs": [],
      "source": [
        "# get the name of the monthly report\n",
        "file_name = f\"data/{fname}.xlsx\""
      ]
    },
    {
      "cell_type": "code",
      "execution_count": 7,
      "metadata": {
        "id": "C0Vt3tt5e53O"
      },
      "outputs": [],
      "source": [
        "# print(file_name)"
      ]
    },
    {
      "cell_type": "code",
      "execution_count": null,
      "metadata": {
        "id": "LhJPi1tWe79d"
      },
      "outputs": [],
      "source": [
        "df = get_month_report.get_processed_df(filename=file_name)"
      ]
    },
    {
      "cell_type": "code",
      "execution_count": null,
      "metadata": {
        "id": "BIhFsvGwfGUi"
      },
      "outputs": [],
      "source": [
        "# df.head()"
      ]
    },
    {
      "cell_type": "markdown",
      "metadata": {
        "id": "W2w48agRfKgf"
      },
      "source": [
        "## Write output file\n",
        "For each input monthly file, write the output word document in the `/output` directory."
      ]
    },
    {
      "cell_type": "code",
      "execution_count": 6,
      "metadata": {
        "id": "nKFIgDRJfKAd"
      },
      "outputs": [],
      "source": [
        "# provide the name of the output file\n",
        "output_file = f\"output/{fname}.docx\""
      ]
    },
    {
      "cell_type": "code",
      "execution_count": null,
      "metadata": {
        "id": "_BCF1R37ftNw"
      },
      "outputs": [],
      "source": [
        "document = word_output(df)"
      ]
    },
    {
      "cell_type": "code",
      "execution_count": null,
      "metadata": {
        "id": "M-_X5kJ4f0-M"
      },
      "outputs": [],
      "source": [
        "# save the document\n",
        "document.save(output_file)"
      ]
    }
  ],
  "metadata": {
    "colab": {
      "provenance": []
    },
    "kernelspec": {
      "display_name": "Python 3",
      "name": "python3"
    },
    "language_info": {
      "name": "python"
    }
  },
  "nbformat": 4,
  "nbformat_minor": 0
}
