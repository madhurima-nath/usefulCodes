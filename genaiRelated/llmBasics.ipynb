{
 "cells": [
  {
   "cell_type": "markdown",
   "metadata": {},
   "source": [
    "# Contents:\n",
    "- What are Large Language Models?\n",
    "- What are Embeddings?\n",
    "    - Similarity\n",
    "    - Attention\n",
    "    - Transformers\n",
    "- Semantic Search with Embeddings\n",
    "- Example\n",
    "\n",
    "**Objectives:**\n",
    "1. build a conceptual understanding of LLMs by getting high level intuition\n",
    "behind embeddings and similarity.\n",
    "2. understand attention mechanism and transformer architecture.\n",
    "3. implement an embedding based search application.\n",
    "4. use pre-trained LLMs for common use cases.\n",
    "\n",
    "- Additonal Resources:\n",
    "    - [Official transformers notebooks](https://huggingface.co/docs/transformers/notebooks).\n",
    "    - [Transformer tutorials](https://github.com/NielsRogge/Transformers-Tutorials).\n",
    "    - [Blog](https://www.philscmid.de/)."
   ]
  },
  {
   "cell_type": "markdown",
   "metadata": {},
   "source": [
    "\n",
    "# Large Language Models (LLMs)\n",
    "LLMs are machine learning (ML) models designed to process and analyse text.\n",
    "They are trained on massive amounts of data. They learn the patterns\n",
    "in the language, which allows them to generate human-like responses\n",
    "to any query given to them.\n",
    "\n",
    "Different tasks performed by LLMs:\n",
    "- Text generation: generate text of all kinds, including\n",
    "    letters, scripts, code, poems, emails, etc.\n",
    "- Language translation: translate text from one language to another.\n",
    "- Text summarisation: summarise long pieces of text into short, concise versions.\n",
    "- Conversational agents/chatbots: interact with humans in a natural way."
   ]
  },
  {
   "cell_type": "markdown",
   "metadata": {},
   "source": [
    "Install HuggingFace transformer module"
   ]
  },
  {
   "cell_type": "code",
   "execution_count": null,
   "metadata": {
    "vscode": {
     "languageId": "plaintext"
    }
   },
   "outputs": [],
   "source": [
    "%pip install --quiet transformers datasets sentence-transformers annoy"
   ]
  },
  {
   "cell_type": "code",
   "execution_count": null,
   "metadata": {
    "vscode": {
     "languageId": "plaintext"
    }
   },
   "outputs": [],
   "source": [
    "import numpy as np\n",
    "import pandas as pd\n",
    "from sentence_transformers import SentenceTransformer, util\n",
    "from datasets import load_dataset\n",
    "from transformers import pipeline\n",
    "from annoy import AnnoyIndex"
   ]
  }
 ],
 "metadata": {
  "language_info": {
   "name": "python"
  }
 },
 "nbformat": 4,
 "nbformat_minor": 2
}
